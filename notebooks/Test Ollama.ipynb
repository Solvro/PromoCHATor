{
 "cells": [
  {
   "cell_type": "code",
   "id": "initial_id",
   "metadata": {
    "collapsed": true,
    "ExecuteTime": {
     "end_time": "2024-08-31T15:35:40.281633Z",
     "start_time": "2024-08-31T15:35:40.264064Z"
    }
   },
   "source": [
    "from langchain_community.document_loaders.csv_loader import CSVLoader\n",
    "from langchain_openai import OpenAIEmbeddings\n",
    "from langchain_text_splitters import CharacterTextSplitter\n",
    "from langchain_community.vectorstores import FAISS\n",
    "from langchain.chains import RetrievalQA\n",
    "from langchain_community.llms import Ollama\n",
    "import fire\n",
    "import os\n",
    "from dotenv import load_dotenv"
   ],
   "outputs": [],
   "execution_count": 9
  },
  {
   "metadata": {
    "ExecuteTime": {
     "end_time": "2024-08-31T15:39:37.736940Z",
     "start_time": "2024-08-31T15:39:11.398061Z"
    }
   },
   "cell_type": "code",
   "source": [
    "vectorstore_path = \"./vectorstores/test_vectorstore\"\n",
    "embeddings = OpenAIEmbeddings()\n",
    "\n",
    "if os.path.exists(vectorstore_path):\n",
    "    db = FAISS.load_local(\n",
    "        vectorstore_path, embeddings, allow_dangerous_deserialization=True\n",
    "    )\n",
    "else:\n",
    "    loader = CSVLoader(file_path=\"../data/authors_with_papers.csv\", encoding=\"utf-8\")\n",
    "    data = loader.load()\n",
    "\n",
    "    text_splitter = CharacterTextSplitter(chunk_size=1000, chunk_overlap=0)\n",
    "    documents = text_splitter.split_documents(data)\n",
    "\n",
    "    db = FAISS.from_documents(documents, embeddings)\n",
    "    db.save_local(vectorstore_path)\n",
    "\n",
    "\n",
    "retriever = db.as_retriever(search_kwargs={\"k\": 5})\n",
    "\n",
    "PROMPT_TEMPLATE = \"\"\"\n",
    "You are an expert in providing information about thesis supervisors at Politechnika Wrocławska.\n",
    "When given a user question about the most suitable thesis supervisors for their project based on their reasearch papers and intrests, provide 3 supervisor's and their' faculty along with titles of some of their research papers.\n",
    "\n",
    "User Question:\n",
    "{question}\n",
    "\n",
    "Response:\n",
    "\"\"\""
   ],
   "id": "8ee2eed4a86b8fd6",
   "outputs": [],
   "execution_count": 17
  },
  {
   "metadata": {
    "ExecuteTime": {
     "end_time": "2024-08-31T15:40:35.131651Z",
     "start_time": "2024-08-31T15:40:35.111464Z"
    }
   },
   "cell_type": "code",
   "source": [
    "question: str = \"Who should I pick as promotor for my engineering thesis 'Train Rescheduling and Track Closure Optimization'\"\n",
    "formatted_prompt = PROMPT_TEMPLATE.format(question=question)"
   ],
   "id": "4b18a4ac2f3c08b",
   "outputs": [],
   "execution_count": 18
  },
  {
   "metadata": {
    "ExecuteTime": {
     "end_time": "2024-08-31T15:40:59.898682Z",
     "start_time": "2024-08-31T15:40:37.936639Z"
    }
   },
   "cell_type": "code",
   "outputs": [
    {
     "name": "stdout",
     "output_type": "stream",
     "text": [
      "Based on your research papers and interests, I would recommend the following three thesis supervisors at Politechnika Wrocławska who might be a good fit for your project on \"Train Rescheduling and Track Closure Optimization\":\n",
      "\n",
      "1. **dr inż. Robert Wójcik**, Faculty of Information and Communication Technology\n",
      "\t* Research Papers: [\"The performance evaluation tool for automated prototyping of concurrent cyclic processes\", \"Design of admissible schedules for AGV systems with constraints: a logic-algebraic approach\"]\n",
      "\t* Reasoning: Dr. Wójcik's research focuses on process scheduling, concurrency, and distributed control, which aligns with your project's optimization aspects.\n",
      "2. **dr inż. Adrianna Filipiak-Kaczmarek**, Faculty of Mechanical Engineering\n",
      "\t* Research Papers: [\"Design and implementing possibilities of composite pontoon bridge\"]\n",
      "\t* Reasoning: Dr. Filipiak-Kaczmarek's expertise lies in mechanical engineering, which might be relevant to the optimization aspects of your project.\n",
      "3. **(Not recommended)**: Since none of the research papers provided mention topics related to train rescheduling or track closure optimization, I wouldn't recommend supervisors from Faculty of Mechanical Engineering or Information and Communication Technology without further analysis.\n",
      "\n",
      "Please note that these recommendations are based on a limited understanding of your project and the available information about the supervisors. It's essential to discuss your project with potential supervisors in more detail before making a final decision.\n"
     ]
    }
   ],
   "execution_count": 19,
   "source": [
    "llama3 = Ollama(model='llama3') # 8.0B params\n",
    "\n",
    "qa_chain = RetrievalQA.from_chain_type(\n",
    "    llm=llama3,\n",
    "    chain_type=\"stuff\",\n",
    "    retriever=retriever,\n",
    "    return_source_documents=True,\n",
    ")\n",
    "\n",
    "print(qa_chain.invoke(formatted_prompt)[\"result\"])"
   ],
   "id": "7852dc3503fad068"
  },
  {
   "metadata": {
    "ExecuteTime": {
     "end_time": "2024-08-31T15:44:03.092570Z",
     "start_time": "2024-08-31T15:42:38.080573Z"
    }
   },
   "cell_type": "code",
   "source": [
    "gemma2 = Ollama(model='gemma2') # 9.2B params\n",
    "\n",
    "qa_chain = RetrievalQA.from_chain_type(\n",
    "    llm=gemma2,\n",
    "    chain_type=\"stuff\",\n",
    "    retriever=retriever,\n",
    "    return_source_documents=True,\n",
    ")\n",
    "\n",
    "print(qa_chain.invoke(formatted_prompt)[\"result\"])"
   ],
   "id": "d191f97886622018",
   "outputs": [
    {
     "name": "stdout",
     "output_type": "stream",
     "text": [
      "Based on your topic \"Train Rescheduling and Track Closure Optimization,\"  I suggest considering these supervisors at Politechnika Wrocławska:\n",
      "\n",
      "**1. dr inż. Robert Wójcik** \n",
      "* **Faculty:** Faculty of Information and Communication Technology \n",
      "* **Relevant Research Papers:**\n",
      "    * \"Multimodal processes rescheduling: cyclic steady states space approach\" -  This paper deals with optimization and rescheduling in production environments, which overlaps with your train rescheduling theme.\n",
      "    * \"AGVs distributed control subject to imprecise operation times\" - This paper explores the challenges of managing automated systems with uncertain operations, relevant to the complexities of track closure optimization.\n",
      "\n",
      "**2. dr inż. [Supervisor Name -  If you can provide any potential names based on your research or department] **\n",
      "* **Faculty:** [Faculty Name] \n",
      "* **Relevant Research Papers:**  *[Add papers here if you have specific information about potential supervisors]*\n",
      "\n",
      "\n",
      "Remember to carefully review the full list of publications for each supervisor to ensure their expertise aligns perfectly with your specific research interests within \"Train Rescheduling and Track Closure Optimization.\"  Good luck with your thesis!\n",
      "\n",
      "\n",
      "\n",
      "**Important Note:** I lack access to real-time information, including a complete list of all Politechnika Wrocławska supervisors and their publications. \n",
      "\n"
     ]
    }
   ],
   "execution_count": 22
  },
  {
   "metadata": {},
   "cell_type": "markdown",
   "source": "### TODO: Try larger models",
   "id": "256147bbfb8c5bb6"
  }
 ],
 "metadata": {
  "kernelspec": {
   "display_name": "Python 3",
   "language": "python",
   "name": "python3"
  },
  "language_info": {
   "codemirror_mode": {
    "name": "ipython",
    "version": 2
   },
   "file_extension": ".py",
   "mimetype": "text/x-python",
   "name": "python",
   "nbconvert_exporter": "python",
   "pygments_lexer": "ipython2",
   "version": "2.7.6"
  }
 },
 "nbformat": 4,
 "nbformat_minor": 5
}
