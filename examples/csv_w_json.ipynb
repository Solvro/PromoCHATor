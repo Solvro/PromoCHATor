{
 "cells": [
  {
   "cell_type": "code",
   "execution_count": 1,
   "metadata": {},
   "outputs": [],
   "source": [
    "from langchain_community.document_loaders.csv_loader import CSVLoader\n",
    "from langchain_openai import OpenAIEmbeddings\n",
    "from langchain_text_splitters import CharacterTextSplitter\n",
    "from langchain_community.vectorstores import FAISS\n",
    "from langchain.chains import RetrievalQA\n",
    "from langchain_openai import OpenAI\n"
   ]
  },
  {
   "cell_type": "code",
   "execution_count": 3,
   "metadata": {},
   "outputs": [],
   "source": [
    "loader = CSVLoader(file_path=\"../data/data_csv_json.csv\")\n",
    "data = loader.load()\n"
   ]
  },
  {
   "cell_type": "code",
   "execution_count": 4,
   "metadata": {},
   "outputs": [
    {
     "name": "stdout",
     "output_type": "stream",
     "text": [
      "[Document(metadata={'source': '../data/data_csv_json.csv', 'row': 0}, page_content='Supervisor\\'s name: Jarosław Drapała\\ninterests: mathematical modelingdynamical systemsmachine learningexploratory data analysis\\nresearch papers: {\"Impairments of working memory in schizophrenia and bipolar disorder: the effect of history of psychotic symptoms and different aspects of cognitive task demands\": \"Comparisons of cognitive impairments between schizophrenia (SZ) and bipolar disorder (BPD) have produced mixed results. We applied different working memory (WM) measures (Digit Span Forward and Backward, Short-delay and Long-delay CPT-AX, N-back) to patients with SZ (n = 23), psychotic BPD (n = 19) and non-psychotic BPD (n = 24), as well as to healthy controls (HC) (n = 18) in order to compare the level of WM impairments across the groups. With respect to the less demanding WM measures (Digit Span Forward and Backward, Short-delay CPT-AX), there were no between group differences in cognitive performance; however, with respect to the more demanding WM measures (Long-delay CPT-AX, N-back), we observed that the groups with psychosis (SZ, psychotic BPD) did not differ from one another, but performed poorer than the group without a history of psychosis (non-psychotic BPD). A history of psychotic symptoms may influence cognitive performance with respect to WM delay and load effects as measured by Long-delay CPT-AX and N-back tests, respectively. We observed a positive correlation of WM performance with antipsychotic treatment and a negative correlation with depressive symptoms in BPD and with negative symptoms in SZ subgroup. Our study suggests that WM dysfunctions are more closely related to a history of psychosis than to the diagnostic categories of SZ and BPD described by psychiatric classification systems.\", \"ADAPTIVE DECISION SUPPORT SYSTEM FOR AUTOMATIC PHYSICAL EFFORT PLAN GENERATION\\\\u2014DATA-DRIVEN APPROACH\": \"Mathematical models delivered using both expert knowledge and experimental data improve understanding of dynamic properties of the system under consideration. This is useful for different purposes, such as prediction, diagnosis, decision making, and system control. A data-driven approach has been found to be particularly useful in designing adaptive decision support systems. We demonstrate the usefulness of data-driven models in a custom application designed for sport training management. We have developed a system that makes use of expert knowledge together with measurement data (heart rate, electromyography, and acceleration) as well as environmental (Global Positioning System) in order to generate an optimal training plan. The system performs such tasks as modeling of the athlete\\'s cardiovascular system, estimation of the athlete\\'s parameters, and adaptation of the model to the athlete.\"}'), Document(metadata={'source': '../data/data_csv_json.csv', 'row': 1}, page_content='Supervisor\\'s name: Krzysztof Brzostowski\\ninterests: nonlinear signal processingtime-frequency analysissparsity techniquessystem identificationdata fusion\\nresearch papers: {\"Two stage EMG onset detection method\": \"Detection of the moment when a muscle begins to activate on the basis of EMG signal is important task for a number of biomechanical studies. In order to provide high accuracy of EMG onset detection, we developed novel method, that give results similar to that obtained by an expert. By means of this method, EMG is processed in two stages. The first stage gives rough estimation of EMG onset, whereas the second stage performs local, precise searching. The method was applied to support signal processing in biomechanical study concerning effect of body position on EMG activity and peak muscle torque stabilizing spinal column under static conditions.\", \"ADAPTIVE DECISION SUPPORT SYSTEM FOR AUTOMATIC PHYSICAL EFFORT PLAN GENERATION\\\\u2014DATA-DRIVEN APPROACH\": \"Mathematical models delivered using both expert knowledge and experimental data improve understanding of dynamic properties of the system under consideration. This is useful for different purposes, such as prediction, diagnosis, decision making, and system control. A data-driven approach has been found to be particularly useful in designing adaptive decision support systems. We demonstrate the usefulness of data-driven models in a custom application designed for sport training management. We have developed a system that makes use of expert knowledge together with measurement data (heart rate, electromyography, and acceleration) as well as environmental (Global Positioning System) in order to generate an optimal training plan. The system performs such tasks as modeling of the athlete\\'s cardiovascular system, estimation of the athlete\\'s parameters, and adaptation of the model to the athlete.\"}'), Document(metadata={'source': '../data/data_csv_json.csv', 'row': 2}, page_content='Supervisor\\'s name: Dariusz Gąsior\\ninterests: virtual networksautonomic networksself-managed networks\\nresearch papers: {\"Pareto-optimal Nash equilibrium in capacity allocation game for self-managed networks\": \"In this paper we introduce a capacity allocation game which models the problem of maximizing network utility from the perspective of distributed noncooperative agents. Motivated by the idea of self-managed networks, in the developed framework the decision-making entities are associated with individual transmission links, deciding on the way they split capacity among concurrent flows. An efficient decentralized algorithm is given for computing a strongly Pareto-optimal strategies, constituting a pure Nash equilibrium. Subsequently, we discuss the properties of the introduced game related to the Price of Anarchy and Price of Stability. The paper is concluded with an experimental study.\", \"An Algorithm for Rescheduling of Trains under Planned Track Closures\": \"This work considered a joint problem of train rescheduling and closure planning. The derivation of a new train run schedule and the determination of a closure plan not only must guarantee the satisfaction of all the given constraints but also must optimize the number of accepted closures, the number of approved train runs, and the total time shift between the resultant and the original schedule. Presented is a novel nonlinear mixed integer optimization problem which is valid for a broad class of railway networks. A multi-level hierarchical heuristic algorithm is introduced due to the NP-hardness of the considered optimization problem. The algorithm is able, on an iterative basis, to jointly select closures and train runs, along with the derivation of a train schedule. Results obtained by the algorithm, launched for the conducted experiments, confirm its ability to provide acceptable and feasible solutions in a reasonable amount of time.\"}'), Document(metadata={'source': '../data/data_csv_json.csv', 'row': 3}, page_content='Supervisor\\'s name: Grzegorz Filcek\\ninterests: Multiple Criteria OptimizationSupply NetworksComputer NetworksMathematical ModellingTransportation\\nresearch papers: {\"A heuristic algorithm for solving a Multiple Criteria Carpooling Optimization (MCCO) problem\": \"The authors consider in this paper a carpooling optimization problem, which is formulated (based on their previous work) as a constrained multiple criteria decision-making problem. Different aspects and contradictory preferences of individual stakeholders/carpoolers (drivers and passengers), including: economic, comfort- and safety-oriented, and social are considered. The formulated problem is focused on the joint matching of carpoolers and planning their routes in order to maximize the utility of all travelers. To solve the problem, the authors develop a heuristic computational procedure that applies a problem-specific heuristic method (carpooler\\\\u2019s matching component) combined with a utility-based shortest path algorithm (routing component). The procedure aggregates all of the considered criteria by a weighted scaling function and then applies a greedy algorithm to generate most satisfactory routes for all of the\"}')]\n"
     ]
    }
   ],
   "source": [
    "print(data)"
   ]
  },
  {
   "cell_type": "code",
   "execution_count": 5,
   "metadata": {},
   "outputs": [],
   "source": [
    "text_splitter = CharacterTextSplitter(chunk_size=1000, chunk_overlap=0)\n",
    "documents = text_splitter.split_documents(data)\n",
    "db = FAISS.from_documents(documents, OpenAIEmbeddings())"
   ]
  },
  {
   "cell_type": "code",
   "execution_count": 6,
   "metadata": {},
   "outputs": [],
   "source": [
    "retriever = db.as_retriever(search_kwargs={\"k\": 5})"
   ]
  },
  {
   "cell_type": "code",
   "execution_count": 7,
   "metadata": {},
   "outputs": [],
   "source": [
    "qa_chain = RetrievalQA.from_chain_type(\n",
    "    llm=OpenAI(temperature=0.2),\n",
    "    chain_type=\"stuff\",\n",
    "    retriever=retriever,\n",
    "    return_source_documents=True,\n",
    ")"
   ]
  },
  {
   "cell_type": "code",
   "execution_count": 8,
   "metadata": {},
   "outputs": [],
   "source": [
    "prompt_template = \"\"\"\n",
    "You are an expert in providing information about thesis supervisors at Politechnika Wrocławska.\n",
    "When given a user question about the most suitable thesis supervisor for their project based on their reasearch papers and intrests, provide the supervisor's name along with titles of their research papers.\n",
    "\n",
    "User Question:\n",
    "{question}\n",
    "\n",
    "Response:\n",
    "\"\"\""
   ]
  },
  {
   "cell_type": "code",
   "execution_count": 9,
   "metadata": {},
   "outputs": [
    {
     "name": "stdout",
     "output_type": "stream",
     "text": [
      "\n",
      "Based on your research topic, I would recommend considering Dariusz Gąsior as your thesis supervisor. He has a strong interest in transportation and optimization, as seen in his research papers \"Pareto-optimal Nash equilibrium in capacity allocation game for self-managed networks\" and \"An Algorithm for Rescheduling of Trains under Planned Track Closures\". These papers demonstrate his expertise in solving complex optimization problems related to transportation systems. Additionally, his experience in self-managed networks may also be applicable to your research topic.\n"
     ]
    }
   ],
   "source": [
    "question = \"Who should I pick as promotor for my engineering thesis 'Train Rescheduling and Track Closure Optimization'\"\n",
    "formatted_prompt = prompt_template.format(question=question)\n",
    "print(qa_chain.invoke(formatted_prompt)[\"result\"])"
   ]
  },
  {
   "cell_type": "code",
   "execution_count": 10,
   "metadata": {},
   "outputs": [
    {
     "name": "stdout",
     "output_type": "stream",
     "text": [
      "\n",
      "Based on your research topic and interests, the most suitable thesis supervisor for you would be Grzegorz Filcek. Some of his research papers that align with your topic and interests include \"A heuristic algorithm for solving a Multiple Criteria Carpooling Optimization (MCCO) problem\" and \"ADAPTIVE DECISION SUPPORT SYSTEM FOR AUTOMATIC PHYSICAL EFFORT PLAN GENERATION\\u2014DATA-DRIVEN APPROACH\".\n"
     ]
    }
   ],
   "source": [
    "question = \"Who should I pick as promotor for my engineering thesis 'Heuristic Methods for Carpooling Optimization: Balancing Economic, Comfort, Safety, and Social Criteria'\"\n",
    "formatted_prompt = prompt_template.format(question=question)\n",
    "print(qa_chain.invoke(formatted_prompt)[\"result\"])"
   ]
  },
  {
   "cell_type": "code",
   "execution_count": 11,
   "metadata": {},
   "outputs": [
    {
     "name": "stdout",
     "output_type": "stream",
     "text": [
      "\n",
      "Based on your research interests and the topic of your thesis, I would recommend considering Grzegorz Filcek as your supervisor. He has a strong background in multiple criteria optimization and mathematical modeling, which could be applicable to your research on recommendation systems in ecommerce. Some of his relevant research papers include \"A heuristic algorithm for solving a Multiple Criteria Carpooling Optimization (MCCO) problem\" and \"Pareto-optimal Nash equilibrium in capacity allocation game for self-managed networks.\"\n"
     ]
    }
   ],
   "source": [
    "question = \"Who should I pick as promotor for my engineering thesis 'The Role of Recomendation Systems in Ecommerce?'\"\n",
    "formatted_prompt = prompt_template.format(question=question)\n",
    "print(qa_chain.invoke(formatted_prompt)[\"result\"])"
   ]
  },
  {
   "cell_type": "code",
   "execution_count": null,
   "metadata": {},
   "outputs": [],
   "source": []
  }
 ],
 "metadata": {
  "kernelspec": {
   "display_name": "promochator",
   "language": "python",
   "name": "python3"
  },
  "language_info": {
   "codemirror_mode": {
    "name": "ipython",
    "version": 3
   },
   "file_extension": ".py",
   "mimetype": "text/x-python",
   "name": "python",
   "nbconvert_exporter": "python",
   "pygments_lexer": "ipython3",
   "version": "3.12.4"
  }
 },
 "nbformat": 4,
 "nbformat_minor": 2
}
