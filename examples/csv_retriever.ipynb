{
 "cells": [
  {
   "cell_type": "code",
   "execution_count": 4,
   "metadata": {},
   "outputs": [
    {
     "data": {
      "text/plain": [
       "True"
      ]
     },
     "execution_count": 4,
     "metadata": {},
     "output_type": "execute_result"
    }
   ],
   "source": [
    "from dotenv import load_dotenv\n",
    "\n",
    "load_dotenv()"
   ]
  },
  {
   "cell_type": "code",
   "execution_count": 5,
   "metadata": {},
   "outputs": [],
   "source": [
    "from langchain_community.document_loaders.csv_loader import CSVLoader\n",
    "from langchain_community.document_loaders import TextLoader\n",
    "from langchain_openai import OpenAIEmbeddings\n",
    "from langchain_text_splitters import CharacterTextSplitter\n",
    "from langchain_community.vectorstores import FAISS\n",
    "from langchain.chains import RetrievalQA\n",
    "from langchain_openai import OpenAI"
   ]
  },
  {
   "cell_type": "code",
   "execution_count": 6,
   "metadata": {},
   "outputs": [],
   "source": [
    "loader = CSVLoader(file_path=\"../data/data.csv\")\n",
    "data = loader.load()"
   ]
  },
  {
   "cell_type": "code",
   "execution_count": 7,
   "metadata": {},
   "outputs": [],
   "source": [
    "text_splitter = CharacterTextSplitter(chunk_size=1000, chunk_overlap=0)\n",
    "documents = text_splitter.split_documents(data)\n",
    "db = FAISS.from_documents(documents, OpenAIEmbeddings())"
   ]
  },
  {
   "cell_type": "code",
   "execution_count": 8,
   "metadata": {},
   "outputs": [
    {
     "name": "stdout",
     "output_type": "stream",
     "text": [
      "autor: Grzegorz Popek\n",
      "zainteresowania: artificial cognitionmulti-agent systems\n",
      "opis pracy: \"To enable artificial systems to meaningfully use a semantic language of communication is one of the long-term and key targets not only in the field of artificial cognitive agents\n",
      "None: but also of AI research in general. Given existing solutions for grounding of modal statements of a language of communication and an idea to model internal concepts of the agent as zadehian fuzzy-linguistic concepts,this paper shows how to meaningfully combine the two within a single framework. An accomplished goal is a model for grounding of modal and non-modal statements of a language of communication based on concepts modelled internally as fuzzy sets spanned over the domain of observation. This paper describes a way in which fuzzy-linguistic concepts are activated by perceptual inputs and how an agents grounds respective non-modal statements. Further,an agent supposed to describe an unobserved part of the\"\n"
     ]
    }
   ],
   "source": [
    "query = \"Who should I pick as promotor for my engineering thesis 'Grounding Modal and Non-Modal Statements in Artificial Cognitive Agents Using Fuzzy-Linguistic Concepts?'\"\n",
    "docs = db.similarity_search(query)\n",
    "print(docs[0].page_content)"
   ]
  },
  {
   "cell_type": "code",
   "execution_count": 9,
   "metadata": {},
   "outputs": [
    {
     "name": "stdout",
     "output_type": "stream",
     "text": [
      "autor: Rafał Palak\n",
      "zainteresowania: Recommendation Systems Collective Intelligence Machine Learning\n",
      "opis pracy: Nowadays, collective intelligence becomes more and more popular. Despite its high usability, many aspects of collective intelligence stay unexplored. Many companies have recognized the potential of collective intelligence and have begun using it. Prediction markets are the real life implementation of collective intelligence. The fact that prediction markets outperform experts makes it a great tool for predicting the future. In this paper, we try to answer important questions that have to be asked before the creation of a prediction market e. g. “What factors influence the prediction market error and how could this be minimized?”. This paper treats the problems more broadly. Therefore, the areas of collective intelligence that have a strong influence on prediction markets are also included in the problem analysis.\n"
     ]
    }
   ],
   "source": [
    "query = \"Who should I pick as promotor for my engineering thesis The Role of Recomendation Systems in Ecommerce?\"\n",
    "docs = db.similarity_search(query)\n",
    "print(docs[0].page_content)"
   ]
  },
  {
   "cell_type": "code",
   "execution_count": 10,
   "metadata": {},
   "outputs": [],
   "source": [
    "retriever = db.as_retriever(search_kwargs={\"k\": 5})"
   ]
  },
  {
   "cell_type": "code",
   "execution_count": 11,
   "metadata": {},
   "outputs": [
    {
     "name": "stderr",
     "output_type": "stream",
     "text": [
      "d:\\conda_folder\\envs\\promochator\\Lib\\site-packages\\langchain_core\\_api\\deprecation.py:139: LangChainDeprecationWarning: The class `OpenAI` was deprecated in LangChain 0.0.10 and will be removed in 0.3.0. An updated version of the class exists in the langchain-openai package and should be used instead. To use it run `pip install -U langchain-openai` and import as `from langchain_openai import OpenAI`.\n",
      "  warn_deprecated(\n"
     ]
    }
   ],
   "source": [
    "qa_chain = RetrievalQA.from_chain_type(\n",
    "    llm=OpenAI(temperature=0.2),\n",
    "    chain_type=\"stuff\",\n",
    "    retriever=retriever,\n",
    "    return_source_documents=True,\n",
    ")"
   ]
  },
  {
   "cell_type": "code",
   "execution_count": 12,
   "metadata": {},
   "outputs": [],
   "source": [
    "prompt_template = \"\"\"\n",
    "You are an expert in providing information about thesis supervisors at Politechnika Wrocławska.\n",
    "When given a user question about the most suitable thesis supervisor for their project, provide the supervisor's name along with their research interests.\n",
    "\n",
    "User Question:\n",
    "{question}\n",
    "\n",
    "Response:\n",
    "\"\"\""
   ]
  },
  {
   "cell_type": "code",
   "execution_count": 15,
   "metadata": {},
   "outputs": [
    {
     "name": "stdout",
     "output_type": "stream",
     "text": [
      "\n",
      "The most suitable thesis supervisor for this project would be Grzegorz Popek, whose research interests include artificial cognition and multi-agent systems.\n"
     ]
    }
   ],
   "source": [
    "question = \"Who should I pick as promotor for my engineering thesis 'Grounding Modal and Non-Modal Statements in Artificial Cognitive Agents Using Fuzzy-Linguistic Concepts?\"\n",
    "formatted_prompt = prompt_template.format(question=question)\n",
    "print(qa_chain.invoke(formatted_prompt)[\"result\"])"
   ]
  },
  {
   "cell_type": "code",
   "execution_count": 16,
   "metadata": {},
   "outputs": [
    {
     "name": "stdout",
     "output_type": "stream",
     "text": [
      "\n",
      "Based on your project topic, I would recommend considering Rafał Palak as your thesis supervisor. His research interests include Recommendation Systems, Collective Intelligence, and Machine Learning.\n"
     ]
    }
   ],
   "source": [
    "question = \"Who should I pick as promotor for my engineering thesis The Role of Recomendation Systems in Ecommerce?\"\n",
    "formatted_prompt = prompt_template.format(question=question)\n",
    "print(qa_chain.invoke(formatted_prompt)[\"result\"])"
   ]
  }
 ],
 "metadata": {
  "kernelspec": {
   "display_name": "promochator",
   "language": "python",
   "name": "python3"
  },
  "language_info": {
   "codemirror_mode": {
    "name": "ipython",
    "version": 3
   },
   "file_extension": ".py",
   "mimetype": "text/x-python",
   "name": "python",
   "nbconvert_exporter": "python",
   "pygments_lexer": "ipython3",
   "version": "3.12.4"
  }
 },
 "nbformat": 4,
 "nbformat_minor": 2
}
